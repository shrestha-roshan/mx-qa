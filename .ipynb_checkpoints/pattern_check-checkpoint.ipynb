{
 "cells": [
  {
   "cell_type": "code",
   "execution_count": 1,
   "id": "excessive-pitch",
   "metadata": {},
   "outputs": [],
   "source": [
    "from IPython.display import display\n",
    "import ipywidgets as widgets\n",
    "from IPython.display import clear_output\n",
    "import numpy as np\n",
    "from ipywidgets import Video, Image\n",
    "from glob import glob\n",
    "import os\n",
    "\n",
    "import time\n",
    "import cv2\n",
    "import time\n",
    "import matplotlib.pyplot as plt\n",
    "import subprocess, shlex\n",
    "import PIL as pil\n",
    "import random\n",
    "import functools\n",
    "import pandas as pd\n",
    "import math"
   ]
  },
  {
   "cell_type": "code",
   "execution_count": 2,
   "id": "outstanding-reference",
   "metadata": {
    "scrolled": false
   },
   "outputs": [],
   "source": [
    "def add_radio_button():\n",
    "    toggle = widgets.RadioButtons(\n",
    "        options = ['YES', 'NO'],\n",
    "        value = None,\n",
    "        layout = {'width': 'max-content'}, \n",
    "        description = 'Similar? : \\n',\n",
    "        disabled = False\n",
    "    )\n",
    "    return toggle\n",
    "\n",
    "\n",
    "def next_item(text_path, root_path, index): \n",
    "    clear_output()\n",
    "    index+=1\n",
    "    display_image(text_path, root_path, index, save_name)\n",
    "\n",
    "def click_previous(arg, argument):\n",
    "    clear_output()\n",
    "    toggle, text_path, root_path, index = arg\n",
    "    with open(f'{save_name}.txt', 'r+') as f:\n",
    "        # read an store all lines into list\n",
    "        lines = f.readlines()\n",
    "        f.seek(0)\n",
    "        f.truncate()\n",
    "        f.writelines(lines[:-1])\n",
    "    index-=1\n",
    "    display_image(text_path, root_path, index, save_name)\n",
    "\n",
    "\n",
    "def click_submit(arg, argument):\n",
    "    \n",
    "    toggle, text_path, root_path, index, save_name = arg\n",
    "\n",
    "    if toggle.value is not None:\n",
    "        img_1,img_2,img_3 = get_img_paths(text_path, index)  \n",
    "        \n",
    "        try:\n",
    "            if toggle.value == 'NO':\n",
    "                with open(f'{save_name}.txt', 'a') as file:\n",
    "                    file.write(f\"{img_1}|{img_2}|{img_3}|1\\n\")\n",
    "                print(\"recorded\")\n",
    "                next_item(text_path, root_path, index)\n",
    "            elif toggle.value == 'YES':\n",
    "                with open(f'{save_name}.txt', 'a') as file:\n",
    "                    file.write(f\"{img_1}|{img_2}|{img_3}|0\\n\")\n",
    "                print(\"recorded\")\n",
    "                next_item(text_path, root_path, index)\n",
    "                \n",
    "        except Exception as e:\n",
    "            print(e)\n",
    "            print(\"CONGRATS...TASK FINITO !!\")\n",
    "            \n",
    "    else:\n",
    "        print('please fill up all section')  \n",
    "\n",
    "def get_img_paths(text_path, index):\n",
    "    with open(text_path, 'r') as f:\n",
    "        paths = f.readlines()[index]\n",
    "        img_1 = paths.split('|')[0]\n",
    "        img_2 = paths.split('|')[1]\n",
    "        img_3 = paths.split('|')[2]            \n",
    "    return img_1, img_2, img_3\n",
    "\n",
    "def display_image(text_path, root_path, index, save_name):\n",
    "    with open('log.txt', 'w') as f:\n",
    "        f.write(str(index))\n",
    "    \n",
    "    #radio button\n",
    "    toggle = add_radio_button()\n",
    "\n",
    "    #images\n",
    "    img_1,img_2,img_3 = get_img_paths(text_path, index)  \n",
    "#     print(img_1, 'and', img_3)\n",
    "\n",
    "    image_1           = cv2.resize(cv2.imread(os.path.join(root_path, img_1)), (300, 300))\n",
    "    image_3           = cv2.resize(cv2.imread(os.path.join(root_path, img_3)), (300, 300))\n",
    "    concated          = cv2.hconcat([image_1, image_3])\n",
    "    cv2.imwrite('temp_file.png', concated)\n",
    "    images            = Image.from_file('temp_file.png',  width = 600, height=600)\n",
    "\n",
    "    #submit button\n",
    "    arg    = toggle, text_path, root_path, index, save_name\n",
    "    submit = widgets.Button(description = 'Submit', disabled=False)\n",
    "    submit.on_click(functools.partial(click_submit, arg))\n",
    "    \n",
    "    #submit button\n",
    "    previous = widgets.Button(description = 'Previous', disabled=False)\n",
    "    previous.on_click(functools.partial(click_previous, arg))\n",
    "    \n",
    "    #display all\n",
    "    content = widgets.HBox([images])\n",
    "    radio = widgets.HBox([toggle])\n",
    "    buttons = widgets.HBox([submit, previous])\n",
    "    display(widgets.VBox([content, radio, buttons , widgets.Output()]))\n"
   ]
  },
  {
   "cell_type": "code",
   "execution_count": 7,
   "metadata": {},
   "outputs": [
    {
     "name": "stdout",
     "output_type": "stream",
     "text": [
      "3686\n",
      "7372\n"
     ]
    }
   ],
   "source": [
    "ind_number = 0\n",
    "current_text_path = f'roshan_{ind_number}.txt'\n",
    "\n",
    "root_path          = '/notebooks/Siamese_matching/street2buy'\n",
    "classes            = 'long_sleeve_dress_0'\n",
    "save_name          = f'{classes}_{ind_number}'\n",
    "original_text_path = f'/notebooks/common-dataset/Sangam_dataset/fashiondataset2/{classes}.txt'\n",
    "\n",
    "df = pd.read_csv(original_text_path, sep = '|', header = None)\n",
    "div_length    = math.ceil(df.shape[0]/5)\n",
    "\n",
    "read_orig     = open(original_text_path)\n",
    "content       = read_orig.readlines()[div_length * ind_number : (div_length * ind_number) + div_length]\n",
    "\n",
    "with open(current_text_path, 'w') as j:\n",
    "    j.writelines(content)\n",
    "    j.close()\n",
    "\n",
    "print(div_length * ind_number)\n",
    "print((div_length * ind_number) + div_length)"
   ]
  },
  {
   "cell_type": "code",
   "execution_count": 8,
   "metadata": {
    "scrolled": false
   },
   "outputs": [
    {
     "data": {
      "application/vnd.jupyter.widget-view+json": {
       "model_id": "3558d17d1ffb40f6a368ef8dc95af799",
       "version_major": 2,
       "version_minor": 0
      },
      "text/plain": [
       "VBox(children=(HBox(children=(Image(value=b'\\x89PNG\\r\\n\\x1a\\n\\x00\\x00\\x00\\rIHDR\\x00\\x00\\x02X\\x00\\x00\\x01,\\x08\\…"
      ]
     },
     "metadata": {},
     "output_type": "display_data"
    }
   ],
   "source": [
    "try:\n",
    "    with open('log.txt', 'r') as f:\n",
    "        index = int(f.readline())      \n",
    "except Exception as e:\n",
    "    index = 0\n",
    "\n",
    "display_image(current_text_path,root_path, index, save_name)"
   ]
  },
  {
   "cell_type": "code",
   "execution_count": null,
   "metadata": {},
   "outputs": [],
   "source": []
  }
 ],
 "metadata": {
  "kernelspec": {
   "display_name": "Python 3",
   "language": "python",
   "name": "python3"
  },
  "language_info": {
   "codemirror_mode": {
    "name": "ipython",
    "version": 3
   },
   "file_extension": ".py",
   "mimetype": "text/x-python",
   "name": "python",
   "nbconvert_exporter": "python",
   "pygments_lexer": "ipython3",
   "version": "3.6.9"
  }
 },
 "nbformat": 4,
 "nbformat_minor": 5
}
