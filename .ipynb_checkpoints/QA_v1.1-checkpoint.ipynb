{
 "cells": [
  {
   "cell_type": "code",
   "execution_count": 1,
   "id": "excessive-pitch",
   "metadata": {},
   "outputs": [],
   "source": [
    "from IPython.display import display\n",
    "import ipywidgets as widgets\n",
    "from IPython.display import clear_output\n",
    "import numpy as np\n",
    "from ipywidgets import Video, Image\n",
    "from glob import glob\n",
    "import os\n",
    "import time\n",
    "import cv2\n",
    "import time\n",
    "import matplotlib.pyplot as plt\n",
    "import json\n",
    "import subprocess, shlex\n",
    "import PIL as pil\n",
    "import random\n",
    "import functools"
   ]
  },
  {
   "cell_type": "code",
   "execution_count": 10,
   "id": "outstanding-reference",
   "metadata": {
    "scrolled": false
   },
   "outputs": [],
   "source": [
    "def find_frame_at_given_time(frame_num, video_path):\n",
    "    \n",
    "    if 'GRAHAN' in video_path:\n",
    "        video_path    = '/'.join(video_path.split('/')[0:-2])+'/GRAHAN/'+'_'.join(video_path.split('/')[-1].split('_')[0:2])+'.mp4'\n",
    "        \n",
    "    print(video_path)\n",
    "    vid_cap           = cv2.VideoCapture(video_path)\n",
    "    fps               = vid_cap.get(cv2.CAP_PROP_FPS)\n",
    "    total_frame       = int(vid_cap.get(cv2.CAP_PROP_FRAME_COUNT))\n",
    "    frame_num         = max(0, frame_num-1)\n",
    "    print(frame_num, total_frame)\n",
    "    \n",
    "    vid_cap.set(1, frame_num)\n",
    "    _, frame = vid_cap.read()\n",
    "    \n",
    "    print(frame.shape)\n",
    "    \n",
    "    return frame\n",
    "\n",
    "\n",
    "def read_json(json_path):\n",
    "    with open(json_path, 'rb') as f:\n",
    "        return json.load(f)\n",
    "    \n",
    "def add_ratio_button(display_color, display_pattern):\n",
    "    gender = widgets.RadioButtons(\n",
    "        options=['good', 'bad'],\n",
    "        value=None,\n",
    "        layout={'width': 'max-content'}, \n",
    "        description='Gender:',\n",
    "        disabled=False\n",
    "    )\n",
    "\n",
    "        \n",
    "    category = widgets.RadioButtons(\n",
    "        options=['good', 'bad'],\n",
    "        value=None, \n",
    "        layout={'width': 'max-content'},\n",
    "        description='Category:',\n",
    "        disabled=False\n",
    "    )\n",
    "\n",
    "    if display_color:\n",
    "        color = widgets.RadioButtons(\n",
    "            options=['good', 'bad'],\n",
    "            value=None, \n",
    "            layout={'width': 'max-content'}, \n",
    "            description='Color :',\n",
    "            disabled=False\n",
    "        )\n",
    "    else:\n",
    "        color = widgets.RadioButtons(\n",
    "            options=['good', 'bad', 'NO'],\n",
    "            value='NO', \n",
    "            layout={'width': 'max-content'}, \n",
    "            description='Color :',\n",
    "            disabled=False\n",
    "        )\n",
    "        \n",
    "\n",
    "    if display_pattern:\n",
    "        pattern = widgets.RadioButtons(\n",
    "            options=['good', 'bad'],\n",
    "            value=None,\n",
    "            layout={'width': 'max-content'},\n",
    "            description='Pattern:',\n",
    "            disabled=False\n",
    "        )   \n",
    "        \n",
    "    else:\n",
    "        pattern = widgets.RadioButtons(\n",
    "            options=['good', 'bad', 'NO'],\n",
    "            value='NO',\n",
    "            layout={'width': 'max-content'},\n",
    "            description='Pattern:',\n",
    "            disabled=False\n",
    "        )   \n",
    "\n",
    "    frame = widgets.RadioButtons(\n",
    "        options=['good', 'bad'],\n",
    "        value=None,\n",
    "        layout={'width': 'max-content'},\n",
    "        description='Frame:',\n",
    "        disabled=False\n",
    "    ) \n",
    "        \n",
    "    return frame, gender, category, color, pattern\n",
    "\n",
    "def analysis(json_path, result_path, qa_status_path): #image array    \n",
    "    hold = False\n",
    "    \n",
    "    def get_qa_status(qa_status_path): #get paths from qa_status.txt\n",
    "        with open(qa_status_path, 'r') as f:\n",
    "            size = os.path.getsize(qa_status_path)\n",
    "            if size != 0:\n",
    "                return  [i.replace('\\n', '') for i in f.readlines()]\n",
    "\n",
    "            else:\n",
    "                return []\n",
    "\n",
    "    def next_item(): \n",
    "        clear_output()\n",
    "        analysis(new_json, result_path, qa_status_path)\n",
    "        \n",
    "        \n",
    "    def click_submit(arg, argument):\n",
    "\n",
    "        frame, gender, category, color, pattern, object_name = arg\n",
    "        \n",
    "        if gender.value and color.value and category.value and pattern.value and frame.value is not None:\n",
    "            with open(result_path, 'a') as f:\n",
    "                f.write(f\"{object_name},{frame.value},{gender.value},{category.value},{color.value},{pattern.value}\\n\")\n",
    "            print(\"recorded\")\n",
    "            argument.disabled = True\n",
    "            \n",
    "        else:\n",
    "            print('please fill up all section')  \n",
    "            \n",
    "            \n",
    "    def Done(passed_arg, arg):\n",
    "        with open(qa_status_path, 'a') as f:\n",
    "            f.write(passed_arg+'\\n')\n",
    "        next_item()\n",
    "        \n",
    "            \n",
    "    def display_adds(item, object_name, series_name, video_path, display_color, display_pattern):\n",
    "        global new_json, result_path\n",
    "        #radio buttons\n",
    "        frame, gender, category, color, pattern = add_ratio_button(display_color, display_pattern)\n",
    "\n",
    "       \n",
    "\n",
    "        frame_num  = item['features']['maxConfFrameNumber']\n",
    "        \n",
    "        if display_color and display_pattern:\n",
    "            img_path   = f'{images_root_path}/{series_name}/multi_color_image_matching/{object_name}/*.png'\n",
    "            img_path   = glob(img_path)[0]\n",
    "        \n",
    "        elif display_color and not(display_pattern):\n",
    "            img_path   = f'{images_root_path}/{series_name}/multi_color/{object_name}/*.png'\n",
    "            img_path   = random.shuffle(glob(img_path))[0]\n",
    "            \n",
    "        elif not(display_color):\n",
    "            img_path   = f'{detected_path}/{object_name}'\n",
    "                        \n",
    "        final_image  = cv2.resize(cv2.imread(img_path), (300, 300))\n",
    "    \n",
    "        frame_       = cv2.resize(find_frame_at_given_time(frame_num, video_path), (300, 300))\n",
    "            \n",
    "    \n",
    "        \n",
    "        concated     = cv2.hconcat([frame_, final_image])\n",
    "        cv2.imwrite('temp_file.png', concated)\n",
    "        video       = Image.from_file('temp_file.png',  width = 600, height=600)\n",
    "        \n",
    "        #submit button\n",
    "        arg    = frame, gender, category, color, pattern, object_name\n",
    "        submit = widgets.Button(description = 'Submit', disabled=False)\n",
    "        submit.on_click(functools.partial(click_submit, arg))\n",
    "        \n",
    "        #display \n",
    "        print(\"--> \"+ img_path.split('/')[-1])\n",
    "        print(\"--> \"+ img_path.split('/')[-2])\n",
    "        content = widgets.HBox([video])\n",
    "        if display_color and display_pattern:\n",
    "            radio = widgets.HBox([frame, gender, category, color, pattern])\n",
    "            \n",
    "        elif display_color and not(display_pattern):\n",
    "            radio = widgets.HBox([frame, gender, category, color])\n",
    "            \n",
    "        elif not(display_color):\n",
    "            radio = widgets.HBox([frame, gender, category])\n",
    "            \n",
    "    \n",
    "        display(widgets.VBox([content, radio, submit, widgets.Output()]))\n",
    "        \n",
    "        \n",
    "        \n",
    "\n",
    "    start          = time.time()\n",
    "    qa_completed   = get_qa_status(qa_status_path)  \n",
    "    new_json       = list(set(json_path) - set(qa_completed))\n",
    "    \n",
    "    print(len(new_json))\n",
    "    #If there is no json_left to evaluate task is finished\n",
    "    if len(new_json) == 0:\n",
    "        print(\"CONGRATS...TASK FINITO !!\")\n",
    "        return 0\n",
    "    \n",
    "    \n",
    "    rand_seed  = np.random.choice(range(0, 10))\n",
    "    np.random.seed(rand_seed)\n",
    "    rand_index = np.random.choice(range(0, len(new_json)))\n",
    "    \n",
    "    selected_json_path  = new_json[rand_index]\n",
    "    selected_json       = read_json(selected_json_path)\n",
    "    \n",
    "    \n",
    "    for items in selected_json['analyticsInfo']:\n",
    "        hold        = True\n",
    "        object_name = items['objectImage']\n",
    "        series_name = '_'.join(object_name.split('_')[0:2])\n",
    "        vid_path    = f\"{video_root}/{series_name}/{'_'.join(object_name.split('_')[0:3])}.mp4\"\n",
    "        if items['recommended_ads'] != {}:\n",
    "            display_adds(items, object_name, series_name, vid_path, display_color=True, display_pattern=True)\n",
    "            \n",
    "        else:\n",
    "            obj_path    = f'{images_root_path}/{series_name}/multi_color/{object_name}'\n",
    "            if os.path.isfile(obj_path):\n",
    "                display_adds(items, object_name, series_name, vid_path, display_color=True, display_pattern=False)\n",
    "                \n",
    "            else:\n",
    "                display_adds(items, object_name, series_name, vid_path, display_color=False, display_pattern=False)\n",
    "\n",
    "    done = widgets.Button(description = 'Done')  \n",
    "    done.on_click(functools.partial(Done, selected_json_path))\n",
    "    output = widgets.Output()\n",
    "    display(widgets.VBox([done]), output)"
   ]
  },
  {
   "cell_type": "code",
   "execution_count": 11,
   "id": "neutral-procedure",
   "metadata": {},
   "outputs": [],
   "source": [
    "version          = 'MX_1.1.4'\n",
    "\n",
    "video_root       = '/notebooks/common-dataset/common/test_mx/video_segmented'\n",
    "images_root_path = f'/notebooks/common-dataset/common/test_mx/{version}/Suggested_ads'\n",
    "result_path      = f'/notebooks/common-dataset/common/test_mx/{version}/result.txt'\n",
    "json_file_root   = f'/notebooks/common-dataset/common/test_mx/{version}/json'\n",
    "detected_path    = f'/notebooks/common-dataset/common/test_mx/{version}/temp-media-folder/analytics'\n",
    "QA_complted_list = f'/notebooks/common-dataset/common/test_mx/{version}/qa_complted.txt'\n",
    "\n",
    "json_file_paths  = glob(f'{json_file_root}/*.json')\n",
    "\n"
   ]
  },
  {
   "cell_type": "code",
   "execution_count": 12,
   "metadata": {},
   "outputs": [
    {
     "data": {
      "text/plain": [
       "589"
      ]
     },
     "execution_count": 12,
     "metadata": {},
     "output_type": "execute_result"
    }
   ],
   "source": [
    "len(json_file_paths)"
   ]
  },
  {
   "cell_type": "code",
   "execution_count": 15,
   "id": "preceding-immune",
   "metadata": {
    "scrolled": false
   },
   "outputs": [
    {
     "name": "stdout",
     "output_type": "stream",
     "text": [
      "24\n",
      "/notebooks/common-dataset/common/test_mx/video_segmented/Sex_education/Sex_education_018.mp4\n",
      "2597 2988\n",
      "(640, 1280, 3)\n",
      "--> Sex_education_018_1_M_H3S6V2_half_tshirt.jpg\n",
      "--> analytics\n"
     ]
    },
    {
     "data": {
      "application/vnd.jupyter.widget-view+json": {
       "model_id": "fcce9f9df23547db9dd645bce8a743e5",
       "version_major": 2,
       "version_minor": 0
      },
      "text/plain": [
       "VBox(children=(HBox(children=(Image(value=b'\\x89PNG\\r\\n\\x1a\\n\\x00\\x00\\x00\\rIHDR\\x00\\x00\\x02X\\x00\\x00\\x01,\\x08\\…"
      ]
     },
     "metadata": {},
     "output_type": "display_data"
    },
    {
     "name": "stdout",
     "output_type": "stream",
     "text": [
      "/notebooks/common-dataset/common/test_mx/video_segmented/Sex_education/Sex_education_018.mp4\n",
      "2982 2988\n",
      "(640, 1280, 3)\n",
      "--> 7b22be3a-b5e0-43bb-a9c5-30dce771ad21.png\n",
      "--> Sex_education_018_2_F_H7S9V1_normal_shorts.jpg\n"
     ]
    },
    {
     "data": {
      "application/vnd.jupyter.widget-view+json": {
       "model_id": "ac0744add50c4cdc920f659ffc098bd0",
       "version_major": 2,
       "version_minor": 0
      },
      "text/plain": [
       "VBox(children=(HBox(children=(Image(value=b'\\x89PNG\\r\\n\\x1a\\n\\x00\\x00\\x00\\rIHDR\\x00\\x00\\x02X\\x00\\x00\\x01,\\x08\\…"
      ]
     },
     "metadata": {},
     "output_type": "display_data"
    },
    {
     "name": "stdout",
     "output_type": "stream",
     "text": [
      "/notebooks/common-dataset/common/test_mx/video_segmented/Sex_education/Sex_education_018.mp4\n",
      "1127 2988\n",
      "(640, 1280, 3)\n",
      "--> Sex_education_018_3_M_H6S6V2_jeans_jacket.jpg\n",
      "--> analytics\n"
     ]
    },
    {
     "data": {
      "application/vnd.jupyter.widget-view+json": {
       "model_id": "4b8b8f4ba4934ebe891c35a2aedb9118",
       "version_major": 2,
       "version_minor": 0
      },
      "text/plain": [
       "VBox(children=(HBox(children=(Image(value=b'\\x89PNG\\r\\n\\x1a\\n\\x00\\x00\\x00\\rIHDR\\x00\\x00\\x02X\\x00\\x00\\x01,\\x08\\…"
      ]
     },
     "metadata": {},
     "output_type": "display_data"
    },
    {
     "ename": "IndexError",
     "evalue": "list index out of range",
     "output_type": "error",
     "traceback": [
      "\u001b[0;31m---------------------------------------------------------------------------\u001b[0m",
      "\u001b[0;31mIndexError\u001b[0m                                Traceback (most recent call last)",
      "\u001b[0;32m<ipython-input-10-68e0f2dde816>\u001b[0m in \u001b[0;36mDone\u001b[0;34m(passed_arg, arg)\u001b[0m\n\u001b[1;32m    121\u001b[0m         \u001b[0;32mwith\u001b[0m \u001b[0mopen\u001b[0m\u001b[0;34m(\u001b[0m\u001b[0mqa_status_path\u001b[0m\u001b[0;34m,\u001b[0m \u001b[0;34m'a'\u001b[0m\u001b[0;34m)\u001b[0m \u001b[0;32mas\u001b[0m \u001b[0mf\u001b[0m\u001b[0;34m:\u001b[0m\u001b[0;34m\u001b[0m\u001b[0;34m\u001b[0m\u001b[0m\n\u001b[1;32m    122\u001b[0m             \u001b[0mf\u001b[0m\u001b[0;34m.\u001b[0m\u001b[0mwrite\u001b[0m\u001b[0;34m(\u001b[0m\u001b[0mpassed_arg\u001b[0m\u001b[0;34m+\u001b[0m\u001b[0;34m'\\n'\u001b[0m\u001b[0;34m)\u001b[0m\u001b[0;34m\u001b[0m\u001b[0;34m\u001b[0m\u001b[0m\n\u001b[0;32m--> 123\u001b[0;31m         \u001b[0mnext_item\u001b[0m\u001b[0;34m(\u001b[0m\u001b[0;34m)\u001b[0m\u001b[0;34m\u001b[0m\u001b[0;34m\u001b[0m\u001b[0m\n\u001b[0m\u001b[1;32m    124\u001b[0m \u001b[0;34m\u001b[0m\u001b[0m\n\u001b[1;32m    125\u001b[0m \u001b[0;34m\u001b[0m\u001b[0m\n",
      "\u001b[0;32m<ipython-input-10-68e0f2dde816>\u001b[0m in \u001b[0;36mnext_item\u001b[0;34m()\u001b[0m\n\u001b[1;32m    101\u001b[0m     \u001b[0;32mdef\u001b[0m \u001b[0mnext_item\u001b[0m\u001b[0;34m(\u001b[0m\u001b[0;34m)\u001b[0m\u001b[0;34m:\u001b[0m\u001b[0;34m\u001b[0m\u001b[0;34m\u001b[0m\u001b[0m\n\u001b[1;32m    102\u001b[0m         \u001b[0mclear_output\u001b[0m\u001b[0;34m(\u001b[0m\u001b[0;34m)\u001b[0m\u001b[0;34m\u001b[0m\u001b[0;34m\u001b[0m\u001b[0m\n\u001b[0;32m--> 103\u001b[0;31m         \u001b[0manalysis\u001b[0m\u001b[0;34m(\u001b[0m\u001b[0mnew_json\u001b[0m\u001b[0;34m,\u001b[0m \u001b[0mresult_path\u001b[0m\u001b[0;34m,\u001b[0m \u001b[0mqa_status_path\u001b[0m\u001b[0;34m)\u001b[0m\u001b[0;34m\u001b[0m\u001b[0;34m\u001b[0m\u001b[0m\n\u001b[0m\u001b[1;32m    104\u001b[0m \u001b[0;34m\u001b[0m\u001b[0m\n\u001b[1;32m    105\u001b[0m \u001b[0;34m\u001b[0m\u001b[0m\n",
      "\u001b[0;32m<ipython-input-10-68e0f2dde816>\u001b[0m in \u001b[0;36manalysis\u001b[0;34m(json_path, result_path, qa_status_path)\u001b[0m\n\u001b[1;32m    205\u001b[0m         \u001b[0mvid_path\u001b[0m    \u001b[0;34m=\u001b[0m \u001b[0;34mf\"{video_root}/{series_name}/{'_'.join(object_name.split('_')[0:3])}.mp4\"\u001b[0m\u001b[0;34m\u001b[0m\u001b[0;34m\u001b[0m\u001b[0m\n\u001b[1;32m    206\u001b[0m         \u001b[0;32mif\u001b[0m \u001b[0mitems\u001b[0m\u001b[0;34m[\u001b[0m\u001b[0;34m'recommended_ads'\u001b[0m\u001b[0;34m]\u001b[0m \u001b[0;34m!=\u001b[0m \u001b[0;34m{\u001b[0m\u001b[0;34m}\u001b[0m\u001b[0;34m:\u001b[0m\u001b[0;34m\u001b[0m\u001b[0;34m\u001b[0m\u001b[0m\n\u001b[0;32m--> 207\u001b[0;31m             \u001b[0mdisplay_adds\u001b[0m\u001b[0;34m(\u001b[0m\u001b[0mitems\u001b[0m\u001b[0;34m,\u001b[0m \u001b[0mobject_name\u001b[0m\u001b[0;34m,\u001b[0m \u001b[0mseries_name\u001b[0m\u001b[0;34m,\u001b[0m \u001b[0mvid_path\u001b[0m\u001b[0;34m,\u001b[0m \u001b[0mdisplay_color\u001b[0m\u001b[0;34m=\u001b[0m\u001b[0;32mTrue\u001b[0m\u001b[0;34m,\u001b[0m \u001b[0mdisplay_pattern\u001b[0m\u001b[0;34m=\u001b[0m\u001b[0;32mTrue\u001b[0m\u001b[0;34m)\u001b[0m\u001b[0;34m\u001b[0m\u001b[0;34m\u001b[0m\u001b[0m\n\u001b[0m\u001b[1;32m    208\u001b[0m \u001b[0;34m\u001b[0m\u001b[0m\n\u001b[1;32m    209\u001b[0m         \u001b[0;32melse\u001b[0m\u001b[0;34m:\u001b[0m\u001b[0;34m\u001b[0m\u001b[0;34m\u001b[0m\u001b[0m\n",
      "\u001b[0;32m<ipython-input-10-68e0f2dde816>\u001b[0m in \u001b[0;36mdisplay_adds\u001b[0;34m(item, object_name, series_name, video_path, display_color, display_pattern)\u001b[0m\n\u001b[1;32m    135\u001b[0m         \u001b[0;32mif\u001b[0m \u001b[0mdisplay_color\u001b[0m \u001b[0;32mand\u001b[0m \u001b[0mdisplay_pattern\u001b[0m\u001b[0;34m:\u001b[0m\u001b[0;34m\u001b[0m\u001b[0;34m\u001b[0m\u001b[0m\n\u001b[1;32m    136\u001b[0m             \u001b[0mimg_path\u001b[0m   \u001b[0;34m=\u001b[0m \u001b[0;34mf'{images_root_path}/{series_name}/multi_color_image_matching/{object_name}/*.png'\u001b[0m\u001b[0;34m\u001b[0m\u001b[0;34m\u001b[0m\u001b[0m\n\u001b[0;32m--> 137\u001b[0;31m             \u001b[0mimg_path\u001b[0m   \u001b[0;34m=\u001b[0m \u001b[0mglob\u001b[0m\u001b[0;34m(\u001b[0m\u001b[0mimg_path\u001b[0m\u001b[0;34m)\u001b[0m\u001b[0;34m[\u001b[0m\u001b[0;36m0\u001b[0m\u001b[0;34m]\u001b[0m\u001b[0;34m\u001b[0m\u001b[0;34m\u001b[0m\u001b[0m\n\u001b[0m\u001b[1;32m    138\u001b[0m \u001b[0;34m\u001b[0m\u001b[0m\n\u001b[1;32m    139\u001b[0m         \u001b[0;32melif\u001b[0m \u001b[0mdisplay_color\u001b[0m \u001b[0;32mand\u001b[0m \u001b[0;32mnot\u001b[0m\u001b[0;34m(\u001b[0m\u001b[0mdisplay_pattern\u001b[0m\u001b[0;34m)\u001b[0m\u001b[0;34m:\u001b[0m\u001b[0;34m\u001b[0m\u001b[0;34m\u001b[0m\u001b[0m\n",
      "\u001b[0;31mIndexError\u001b[0m: list index out of range"
     ]
    },
    {
     "name": "stdout",
     "output_type": "stream",
     "text": [
      "recorded\n",
      "recorded\n"
     ]
    }
   ],
   "source": [
    "with open(QA_complted_list, 'a') as f:\n",
    "    pass\n",
    "\n",
    "analysis(json_file_paths, result_path, QA_complted_list)"
   ]
  },
  {
   "cell_type": "code",
   "execution_count": null,
   "metadata": {},
   "outputs": [],
   "source": [
    "dir(Image)"
   ]
  },
  {
   "cell_type": "code",
   "execution_count": null,
   "metadata": {},
   "outputs": [],
   "source": [
    "def done_(arg):\n",
    "    \n",
    "    arg.disabled=True\n",
    "    \n",
    "done = widgets.Button(description = 'Done')  \n",
    "done.on_click(done_)\n",
    "output = widgets.Output()\n",
    "display(widgets.VBox([done]), output)"
   ]
  },
  {
   "cell_type": "code",
   "execution_count": null,
   "metadata": {},
   "outputs": [],
   "source": [
    "dir(submit.disabled)"
   ]
  },
  {
   "cell_type": "code",
   "execution_count": null,
   "metadata": {},
   "outputs": [],
   "source": [
    "c = \"GRAHAN_12\"\n",
    "print(c)\n",
    "c = c.strip('_1234')\n",
    "print(c)"
   ]
  },
  {
   "cell_type": "code",
   "execution_count": null,
   "metadata": {},
   "outputs": [],
   "source": [
    "\"HS1V2_hoddie\".strip('HSV123')"
   ]
  },
  {
   "cell_type": "code",
   "execution_count": null,
   "metadata": {},
   "outputs": [],
   "source": []
  }
 ],
 "metadata": {
  "kernelspec": {
   "display_name": "Python 3",
   "language": "python",
   "name": "python3"
  },
  "language_info": {
   "codemirror_mode": {
    "name": "ipython",
    "version": 3
   },
   "file_extension": ".py",
   "mimetype": "text/x-python",
   "name": "python",
   "nbconvert_exporter": "python",
   "pygments_lexer": "ipython3",
   "version": "3.6.9"
  }
 },
 "nbformat": 4,
 "nbformat_minor": 5
}
