{
 "cells": [
  {
   "cell_type": "code",
   "execution_count": 1,
   "metadata": {},
   "outputs": [],
   "source": [
    "from glob import glob\n",
    "import numpy as np\n",
    "import pandas as pd\n",
    "import os"
   ]
  },
  {
   "cell_type": "code",
   "execution_count": 2,
   "id": "neutral-procedure",
   "metadata": {},
   "outputs": [],
   "source": [
    "version          = 'frame_selection'\n",
    "\n",
    "video_root       = '/notebooks/common-dataset/common/test_mx/video_segmented'\n",
    "images_root_path = f'/notebooks/common-dataset/common/test_mx/{version}/Suggested_ads'\n",
    "result_path      = f'/notebooks/common-dataset/common/test_mx/{version}/result.txt'\n",
    "detected_path    = '/notebooks/common-dataset/common/temp-media-folder/analytics'\n",
    "# QA_complted_list = f'/notebooks/common-dataset/common/test_mx/{version}/qa_complted.txt'"
   ]
  },
  {
   "cell_type": "code",
   "execution_count": 3,
   "metadata": {},
   "outputs": [],
   "source": [
    "total_segmented_videos = len(glob(f'{video_root}/*/*'))\n",
    "total_product_recommended = len(glob(f'{images_root_path}/*/multi_color_image_matching/*'))\n",
    "total_videos_hit = len(glob(f\"{images_root_path}/*\"))\n",
    "hit_rate = round(total_segmented_videos/total_videos_hit)"
   ]
  },
  {
   "cell_type": "code",
   "execution_count": 4,
   "metadata": {},
   "outputs": [
    {
     "data": {
      "text/plain": [
       "(438, 6)"
      ]
     },
     "execution_count": 4,
     "metadata": {},
     "output_type": "execute_result"
    }
   ],
   "source": [
    "df = pd.read_csv(result_path, sep=\",\", names=['filepath','frame', 'gender', 'category', 'color', 'pattern']) \n",
    "df.drop_duplicates(subset=['filepath'], inplace = True)\n",
    "df.shape"
   ]
  },
  {
   "cell_type": "code",
   "execution_count": 5,
   "metadata": {},
   "outputs": [],
   "source": [
    "all_good_count = ((df['gender'] == 'good') & (df['color'] == 'good') & (df['category'] == 'good') & (df['pattern'] == 'good')).tolist().count(True)  \n",
    "\n",
    "bad_gender = df['gender'].tolist().count('bad')\n",
    "good_gender = df['gender'].tolist().count('good')\n",
    "\n",
    "bad_color = df['color'].tolist().count('bad')\n",
    "good_color = df['color'].tolist().count('good')\n",
    "none_color = df['color'].tolist().count('NO')\n",
    "\n",
    "bad_category = df['category'].tolist().count('bad')\n",
    "good_category = df['category'].tolist().count('good')\n",
    "\n",
    "bad_pattern = df['pattern'].tolist().count('bad')\n",
    "good_pattern = df['pattern'].tolist().count('good')\n",
    "none_pattern = df['pattern'].tolist().count('NO')\n",
    "\n",
    "bad_frame = df['frame'].tolist().count('bad')\n",
    "good_frame = df['frame'].tolist().count('good')"
   ]
  },
  {
   "cell_type": "code",
   "execution_count": 6,
   "metadata": {},
   "outputs": [
    {
     "data": {
      "text/plain": [
       "int"
      ]
     },
     "execution_count": 6,
     "metadata": {},
     "output_type": "execute_result"
    }
   ],
   "source": [
    "type(good_gender)"
   ]
  },
  {
   "cell_type": "code",
   "execution_count": 7,
   "metadata": {},
   "outputs": [],
   "source": [
    "d = {'total_qa':[df.shape[0]],'total_segmented_videos':[total_segmented_videos],'total_product_recommended':[total_product_recommended],\n",
    "     'total_videos_hit':[total_videos_hit],'hit_rate_in_percent':[hit_rate],'best_recommendation (all_metrics_good)':all_good_count, \n",
    "     'bad_gender': [bad_gender], 'good_gender':[good_gender],'bad_color':[bad_color], 'good_color':[good_color], \n",
    "     'none_color':[none_color], 'bad_category':[bad_category],'good_category':[good_category],'bad_pattern':[bad_pattern],\n",
    "     'good_pattern':[good_pattern], 'none_pattern':[none_pattern], 'bad_frame':[bad_frame],'good_frame':[good_frame]}\n",
    "df_analysis = pd.DataFrame(data=d ,index = [version])"
   ]
  },
  {
   "cell_type": "code",
   "execution_count": 8,
   "metadata": {
    "scrolled": true
   },
   "outputs": [],
   "source": [
    "df_analysis.to_csv(f\"{version}.csv\")"
   ]
  },
  {
   "cell_type": "code",
   "execution_count": 9,
   "metadata": {
    "scrolled": true
   },
   "outputs": [
    {
     "data": {
      "text/html": [
       "<div>\n",
       "<style scoped>\n",
       "    .dataframe tbody tr th:only-of-type {\n",
       "        vertical-align: middle;\n",
       "    }\n",
       "\n",
       "    .dataframe tbody tr th {\n",
       "        vertical-align: top;\n",
       "    }\n",
       "\n",
       "    .dataframe thead th {\n",
       "        text-align: right;\n",
       "    }\n",
       "</style>\n",
       "<table border=\"1\" class=\"dataframe\">\n",
       "  <thead>\n",
       "    <tr style=\"text-align: right;\">\n",
       "      <th></th>\n",
       "      <th>total_qa</th>\n",
       "      <th>total_segmented_videos</th>\n",
       "      <th>total_product_recommended</th>\n",
       "      <th>total_videos_hit</th>\n",
       "      <th>hit_rate_in_percent</th>\n",
       "      <th>best_recommendation (all_metrics_good)</th>\n",
       "      <th>bad_gender</th>\n",
       "      <th>good_gender</th>\n",
       "      <th>bad_color</th>\n",
       "      <th>good_color</th>\n",
       "      <th>none_color</th>\n",
       "      <th>bad_category</th>\n",
       "      <th>good_category</th>\n",
       "      <th>bad_pattern</th>\n",
       "      <th>good_pattern</th>\n",
       "      <th>none_pattern</th>\n",
       "      <th>bad_frame</th>\n",
       "      <th>good_frame</th>\n",
       "    </tr>\n",
       "  </thead>\n",
       "  <tbody>\n",
       "    <tr>\n",
       "      <th>frame_selection</th>\n",
       "      <td>438</td>\n",
       "      <td>588</td>\n",
       "      <td>249</td>\n",
       "      <td>46</td>\n",
       "      <td>13</td>\n",
       "      <td>73</td>\n",
       "      <td>1</td>\n",
       "      <td>437</td>\n",
       "      <td>23</td>\n",
       "      <td>86</td>\n",
       "      <td>329</td>\n",
       "      <td>86</td>\n",
       "      <td>352</td>\n",
       "      <td>14</td>\n",
       "      <td>95</td>\n",
       "      <td>329</td>\n",
       "      <td>4</td>\n",
       "      <td>434</td>\n",
       "    </tr>\n",
       "  </tbody>\n",
       "</table>\n",
       "</div>"
      ],
      "text/plain": [
       "                 total_qa  total_segmented_videos  total_product_recommended  \\\n",
       "frame_selection       438                     588                        249   \n",
       "\n",
       "                 total_videos_hit  hit_rate_in_percent  \\\n",
       "frame_selection                46                   13   \n",
       "\n",
       "                 best_recommendation (all_metrics_good)  bad_gender  \\\n",
       "frame_selection                                      73           1   \n",
       "\n",
       "                 good_gender  bad_color  good_color  none_color  bad_category  \\\n",
       "frame_selection          437         23          86         329            86   \n",
       "\n",
       "                 good_category  bad_pattern  good_pattern  none_pattern  \\\n",
       "frame_selection            352           14            95           329   \n",
       "\n",
       "                 bad_frame  good_frame  \n",
       "frame_selection          4         434  "
      ]
     },
     "execution_count": 9,
     "metadata": {},
     "output_type": "execute_result"
    }
   ],
   "source": [
    "df_analysis"
   ]
  },
  {
   "cell_type": "code",
   "execution_count": null,
   "metadata": {},
   "outputs": [],
   "source": []
  }
 ],
 "metadata": {
  "kernelspec": {
   "display_name": "Python 3",
   "language": "python",
   "name": "python3"
  },
  "language_info": {
   "codemirror_mode": {
    "name": "ipython",
    "version": 3
   },
   "file_extension": ".py",
   "mimetype": "text/x-python",
   "name": "python",
   "nbconvert_exporter": "python",
   "pygments_lexer": "ipython3",
   "version": "3.6.9"
  }
 },
 "nbformat": 4,
 "nbformat_minor": 5
}
