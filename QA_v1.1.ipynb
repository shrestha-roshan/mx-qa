{
 "cells": [
  {
   "cell_type": "code",
   "execution_count": 31,
   "id": "excessive-pitch",
   "metadata": {},
   "outputs": [],
   "source": [
    "from IPython.display import display\n",
    "import ipywidgets as widgets\n",
    "from IPython.display import clear_output\n",
    "import numpy as np\n",
    "from ipywidgets import Video, Image\n",
    "from glob import glob\n",
    "import os\n",
    "import time\n",
    "import cv2\n",
    "import time\n",
    "import matplotlib.pyplot as plt\n",
    "import json\n",
    "import subprocess, shlex\n",
    "import PIL as pil\n",
    "import random\n",
    "import functools"
   ]
  },
  {
   "cell_type": "code",
   "execution_count": 43,
   "id": "outstanding-reference",
   "metadata": {
    "scrolled": false
   },
   "outputs": [],
   "source": [
    "def find_frame_at_given_time(frame_num, video_path):\n",
    "    \n",
    "    if 'GRAHAN' in video_path:\n",
    "        video_path    = '/'.join(video_path.split('/')[0:-2])+'/GRAHAN/'+'_'.join(video_path.split('/')[-1].split('_')[0:2])+'.mp4'\n",
    "        \n",
    "    print(video_path)\n",
    "    vid_cap           = cv2.VideoCapture(video_path)\n",
    "    fps               = vid_cap.get(cv2.CAP_PROP_FPS)\n",
    "    total_frame       = int(vid_cap.get(cv2.CAP_PROP_FRAME_COUNT))\n",
    "    frame_num         = max(0, frame_num-1)\n",
    "    print(frame_num, total_frame)\n",
    "    \n",
    "    vid_cap.set(1, frame_num)\n",
    "    _, frame = vid_cap.read()\n",
    "    \n",
    "    print(frame.shape)\n",
    "    \n",
    "    return frame\n",
    "\n",
    "\n",
    "def read_json(json_path):\n",
    "    with open(json_path, 'rb') as f:\n",
    "        return json.load(f)\n",
    "    \n",
    "def add_ratio_button(display_color, display_pattern):\n",
    "    gender = widgets.RadioButtons(\n",
    "        options=['good', 'bad'],\n",
    "        value=None,\n",
    "        layout={'width': 'max-content'}, \n",
    "        description='Gender:',\n",
    "        disabled=False\n",
    "    )\n",
    "\n",
    "        \n",
    "    category = widgets.RadioButtons(\n",
    "        options=['good', 'bad'],\n",
    "        value=None, \n",
    "        layout={'width': 'max-content'},\n",
    "        description='Category:',\n",
    "        disabled=False\n",
    "    )\n",
    "\n",
    "    if display_color:\n",
    "        color = widgets.RadioButtons(\n",
    "            options=['good', 'bad'],\n",
    "            value=None, \n",
    "            layout={'width': 'max-content'}, \n",
    "            description='Color :',\n",
    "            disabled=False\n",
    "        )\n",
    "    else:\n",
    "        color = widgets.RadioButtons(\n",
    "            options=['good', 'bad', 'NO'],\n",
    "            value='NO', \n",
    "            layout={'width': 'max-content'}, \n",
    "            description='Color :',\n",
    "            disabled=False\n",
    "        )\n",
    "        \n",
    "\n",
    "    if display_pattern:\n",
    "        pattern = widgets.RadioButtons(\n",
    "            options=['good', 'bad'],\n",
    "            value=None,\n",
    "            layout={'width': 'max-content'},\n",
    "            description='Pattern:',\n",
    "            disabled=False\n",
    "        )   \n",
    "        \n",
    "    else:\n",
    "        pattern = widgets.RadioButtons(\n",
    "            options=['good', 'bad', 'NO'],\n",
    "            value='NO',\n",
    "            layout={'width': 'max-content'},\n",
    "            description='Pattern:',\n",
    "            disabled=False\n",
    "        )   \n",
    "\n",
    "    frame = widgets.RadioButtons(\n",
    "        options=['good', 'bad'],\n",
    "        value=None,\n",
    "        layout={'width': 'max-content'},\n",
    "        description='Frame:',\n",
    "        disabled=False\n",
    "    ) \n",
    "        \n",
    "    return frame, gender, category, color, pattern\n",
    "\n",
    "def analysis(json_path, result_path, qa_status_path): #image array    \n",
    "    hold = False\n",
    "    \n",
    "    def get_qa_status(qa_status_path): #get paths from qa_status.txt\n",
    "        with open(qa_status_path, 'r') as f:\n",
    "            size = os.path.getsize(qa_status_path)\n",
    "            if size != 0:\n",
    "                return  [i.replace('\\n', '') for i in f.readlines()]\n",
    "\n",
    "            else:\n",
    "                return []\n",
    "\n",
    "    def next_item(): \n",
    "        clear_output()\n",
    "        analysis(new_json, result_path, qa_status_path)\n",
    "        \n",
    "        \n",
    "    def click_submit(arg, argument):\n",
    "\n",
    "        frame, gender, category, color, pattern, object_name = arg\n",
    "        \n",
    "        if gender.value and color.value and category.value and pattern.value and frame.value is not None:\n",
    "            with open(result_path, 'a') as f:\n",
    "                f.write(f\"{object_name},{frame.value},{gender.value},{category.value},{color.value},{pattern.value}\\n\")\n",
    "            print(\"recorded\")\n",
    "            argument.disabled = True\n",
    "            \n",
    "        else:\n",
    "            print('please fill up all section')  \n",
    "            \n",
    "            \n",
    "    def Done(passed_arg, arg):\n",
    "        with open(qa_status_path, 'a') as f:\n",
    "            f.write(passed_arg+'\\n')\n",
    "        next_item()\n",
    "        \n",
    "            \n",
    "    def display_adds(item, object_name, series_name, video_path, display_color, display_pattern):\n",
    "        global new_json, result_path\n",
    "        #radio buttons\n",
    "        frame, gender, category, color, pattern = add_ratio_button(display_color, display_pattern)\n",
    "\n",
    "       \n",
    "\n",
    "        frame_num  = item['features']['maxConfFrameNumber']\n",
    "        \n",
    "        if display_color and display_pattern:\n",
    "            img_path   = f'{images_root_path}/{series_name}/multi_color_image_matching/{object_name}/*.png'\n",
    "            img_path   = glob(img_path)[0]\n",
    "        \n",
    "        elif display_color and not(display_pattern):\n",
    "            img_path   = f'{images_root_path}/{series_name}/multi_color/{object_name}/*.png'\n",
    "            img_path   = random.shuffle(glob(img_path))[0]\n",
    "            \n",
    "        elif not(display_color):\n",
    "            img_path   = f'{detected_path}/{object_name}'\n",
    "                        \n",
    "        final_image  = cv2.resize(cv2.imread(img_path), (300, 300))\n",
    "    \n",
    "        frame_       = cv2.resize(find_frame_at_given_time(frame_num, video_path), (300, 300))\n",
    "            \n",
    "    \n",
    "        \n",
    "        concated     = cv2.hconcat([frame_, final_image])\n",
    "        cv2.imwrite('temp_file.png', concated)\n",
    "        video       = Image.from_file('temp_file.png',  width = 600, height=600)\n",
    "        \n",
    "        #submit button\n",
    "        arg    = frame, gender, category, color, pattern, object_name\n",
    "        submit = widgets.Button(description = 'Submit', disabled=False)\n",
    "        submit.on_click(functools.partial(click_submit, arg))\n",
    "        \n",
    "        #display \n",
    "        print(\"--> \"+ img_path.split('/')[-1])\n",
    "        print(\"--> \"+ img_path.split('/')[-2])\n",
    "        content = widgets.HBox([video])\n",
    "        if display_color and display_pattern:\n",
    "            radio = widgets.HBox([frame, gender, category, color, pattern])\n",
    "            \n",
    "        elif display_color and not(display_pattern):\n",
    "            radio = widgets.HBox([frame, gender, category, color])\n",
    "            \n",
    "        elif not(display_color):\n",
    "            radio = widgets.HBox([frame, gender, category])\n",
    "            \n",
    "    \n",
    "        display(widgets.VBox([content, radio, submit, widgets.Output()]))\n",
    "        \n",
    "        \n",
    "        \n",
    "\n",
    "    start          = time.time()\n",
    "    qa_completed   = get_qa_status(qa_status_path)  \n",
    "    new_json       = list(set(json_path) - set(qa_completed))\n",
    "    \n",
    "    print(len(new_json))\n",
    "    #If there is no json_left to evaluate task is finished\n",
    "    if len(new_json) == 0:\n",
    "        print(\"CONGRATS...TASK FINITO !!\")\n",
    "        return 0\n",
    "    \n",
    "    \n",
    "    rand_seed  = np.random.choice(range(0, 10))\n",
    "    np.random.seed(rand_seed)\n",
    "    rand_index = np.random.choice(range(0, len(new_json)))\n",
    "    \n",
    "    selected_json_path  = new_json[rand_index]\n",
    "    selected_json       = read_json(selected_json_path)\n",
    "    \n",
    "    \n",
    "    for items in selected_json['analyticsInfo']:\n",
    "        hold        = True\n",
    "        object_name = items['objectImage']\n",
    "        series_name = '_'.join(object_name.split('_')[0:2])\n",
    "        vid_path    = f\"{video_root}/{'_'.join(object_name.split('_')[0:2])}.mp4\"\n",
    "        \n",
    "        try:\n",
    "            if items['recommended_ads'] != {}:\n",
    "                display_adds(items, object_name, series_name, vid_path, display_color=True, display_pattern=True)\n",
    "\n",
    "            else:\n",
    "                obj_path    = f'{images_root_path}/{series_name}/multi_color/{object_name}'\n",
    "                if os.path.isfile(obj_path):\n",
    "                    display_adds(items, object_name, series_name, vid_path, display_color=True, display_pattern=False)\n",
    "\n",
    "                else:\n",
    "                    display_adds(items, object_name, series_name, vid_path, display_color=False, display_pattern=False)\n",
    "        except:\n",
    "            continue\n",
    "            \n",
    "    done = widgets.Button(description = 'Done')  \n",
    "    done.on_click(functools.partial(Done, selected_json_path))\n",
    "    output = widgets.Output()\n",
    "    display(widgets.VBox([done]), output)"
   ]
  },
  {
   "cell_type": "code",
   "execution_count": 57,
   "id": "neutral-procedure",
   "metadata": {},
   "outputs": [],
   "source": [
    "version          = 'sharechat_1.2'\n",
    "client           = 'sharechat'\n",
    "\n",
    "video_root       = f'/notebooks/common-dataset/common/{client}/video_segmented'\n",
    "images_root_path = f'/notebooks/common-dataset/common/{client}/{version}/Suggested_ads'\n",
    "result_path      = f'/notebooks/common-dataset/common/{client}/{version}/result.txt'\n",
    "json_file_root   = f'/notebooks/common-dataset/common/{client}/{version}/json'\n",
    "detected_path    = f'/notebooks/common-dataset/common/{client}/{version}/temp-media-folder/analytics'\n",
    "QA_complted_list = f'/notebooks/common-dataset/common/{client}/{version}/qa_complted.txt'\n",
    "\n",
    "json_file_paths  = glob(f'{json_file_root}/*.json')\n",
    "\n"
   ]
  },
  {
   "cell_type": "code",
   "execution_count": 58,
   "metadata": {},
   "outputs": [
    {
     "data": {
      "text/plain": [
       "405"
      ]
     },
     "execution_count": 58,
     "metadata": {},
     "output_type": "execute_result"
    }
   ],
   "source": [
    "len(json_file_paths)"
   ]
  },
  {
   "cell_type": "code",
   "execution_count": 46,
   "id": "preceding-immune",
   "metadata": {
    "scrolled": false
   },
   "outputs": [
    {
     "name": "stdout",
     "output_type": "stream",
     "text": [
      "403\n",
      "/notebooks/common-dataset/common/sharechat/video_segmented/39a5e93_1632079030111.mp4\n",
      "129 262\n",
      "(1138, 640, 3)\n",
      "--> 39a5e93_1632079030111_1_F_H2S4V8_shoes.jpg\n",
      "--> analytics\n"
     ]
    },
    {
     "data": {
      "application/vnd.jupyter.widget-view+json": {
       "model_id": "92bb8fc007664cf7a26a441854b24b88",
       "version_major": 2,
       "version_minor": 0
      },
      "text/plain": [
       "VBox(children=(HBox(children=(Image(value=b'\\x89PNG\\r\\n\\x1a\\n\\x00\\x00\\x00\\rIHDR\\x00\\x00\\x02X\\x00\\x00\\x01,\\x08\\…"
      ]
     },
     "metadata": {},
     "output_type": "display_data"
    },
    {
     "name": "stdout",
     "output_type": "stream",
     "text": [
      "/notebooks/common-dataset/common/sharechat/video_segmented/39a5e93_1632079030111.mp4\n",
      "118 262\n",
      "(1138, 640, 3)\n",
      "--> 39a5e93_1632079030111_2_F_H11S8V6_jeans_pant.jpg\n",
      "--> analytics\n"
     ]
    },
    {
     "data": {
      "application/vnd.jupyter.widget-view+json": {
       "model_id": "4a9d050a89f54c4f8f0babf841ea4501",
       "version_major": 2,
       "version_minor": 0
      },
      "text/plain": [
       "VBox(children=(HBox(children=(Image(value=b'\\x89PNG\\r\\n\\x1a\\n\\x00\\x00\\x00\\rIHDR\\x00\\x00\\x02X\\x00\\x00\\x01,\\x08\\…"
      ]
     },
     "metadata": {},
     "output_type": "display_data"
    },
    {
     "name": "stdout",
     "output_type": "stream",
     "text": [
      "/notebooks/common-dataset/common/sharechat/video_segmented/39a5e93_1632079030111.mp4\n",
      "76 262\n",
      "(1138, 640, 3)\n",
      "--> 39a5e93_1632079030111_3_F_H14S11V1_half_tank_tops.jpg\n",
      "--> analytics\n"
     ]
    },
    {
     "data": {
      "application/vnd.jupyter.widget-view+json": {
       "model_id": "16d06d71414f49889005dd788bebd243",
       "version_major": 2,
       "version_minor": 0
      },
      "text/plain": [
       "VBox(children=(HBox(children=(Image(value=b'\\x89PNG\\r\\n\\x1a\\n\\x00\\x00\\x00\\rIHDR\\x00\\x00\\x02X\\x00\\x00\\x01,\\x08\\…"
      ]
     },
     "metadata": {},
     "output_type": "display_data"
    },
    {
     "name": "stdout",
     "output_type": "stream",
     "text": [
      "/notebooks/common-dataset/common/sharechat/video_segmented/39a5e93_1632079030111.mp4\n",
      "121 262\n",
      "(1138, 640, 3)\n",
      "--> 39a5e93_1632079030111_4_M_H18S4V5_shoes.jpg\n",
      "--> analytics\n"
     ]
    },
    {
     "data": {
      "application/vnd.jupyter.widget-view+json": {
       "model_id": "7155174689814df287651b08c400ca61",
       "version_major": 2,
       "version_minor": 0
      },
      "text/plain": [
       "VBox(children=(HBox(children=(Image(value=b'\\x89PNG\\r\\n\\x1a\\n\\x00\\x00\\x00\\rIHDR\\x00\\x00\\x02X\\x00\\x00\\x01,\\x08\\…"
      ]
     },
     "metadata": {},
     "output_type": "display_data"
    },
    {
     "data": {
      "application/vnd.jupyter.widget-view+json": {
       "model_id": "18f1c3f1a47e4200be5a778663dc6a36",
       "version_major": 2,
       "version_minor": 0
      },
      "text/plain": [
       "VBox(children=(Button(description='Done', style=ButtonStyle()),))"
      ]
     },
     "metadata": {},
     "output_type": "display_data"
    },
    {
     "data": {
      "application/vnd.jupyter.widget-view+json": {
       "model_id": "0d1f68651bdf4b6f8da0ddd8b9fedb97",
       "version_major": 2,
       "version_minor": 0
      },
      "text/plain": [
       "Output()"
      ]
     },
     "metadata": {},
     "output_type": "display_data"
    }
   ],
   "source": [
    "with open(QA_complted_list, 'a') as f:\n",
    "    pass\n",
    "\n",
    "analysis(json_file_paths, result_path, QA_complted_list)"
   ]
  },
  {
   "cell_type": "code",
   "execution_count": null,
   "metadata": {},
   "outputs": [],
   "source": []
  }
 ],
 "metadata": {
  "kernelspec": {
   "display_name": "Python 3",
   "language": "python",
   "name": "python3"
  },
  "language_info": {
   "codemirror_mode": {
    "name": "ipython",
    "version": 3
   },
   "file_extension": ".py",
   "mimetype": "text/x-python",
   "name": "python",
   "nbconvert_exporter": "python",
   "pygments_lexer": "ipython3",
   "version": "3.6.9"
  }
 },
 "nbformat": 4,
 "nbformat_minor": 5
}
