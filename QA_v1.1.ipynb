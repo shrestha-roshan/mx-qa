{
 "cells": [
  {
   "cell_type": "code",
   "execution_count": 1,
   "id": "excessive-pitch",
   "metadata": {},
   "outputs": [],
   "source": [
    "from IPython.display import display\n",
    "import ipywidgets as widgets\n",
    "from IPython.display import clear_output\n",
    "import numpy as np\n",
    "from ipywidgets import Video, Image\n",
    "from glob import glob\n",
    "import os\n",
    "import time"
   ]
  },
  {
   "cell_type": "code",
   "execution_count": 2,
   "id": "outstanding-reference",
   "metadata": {
    "scrolled": false
   },
   "outputs": [],
   "source": [
    "def analysis(image_paths, result_path): #image array    \n",
    "    def result_paths(result_path): #get paths from result.txt\n",
    "        paths =[]\n",
    "        with open(result_path, 'r') as f:\n",
    "            size = os.path.getsize(result_path)\n",
    "            if size != 0:\n",
    "                for line in f:\n",
    "                    paths.append(line.split(' ')[0]) \n",
    "                return paths\n",
    "            else:\n",
    "                paths = []\n",
    "                return paths\n",
    "            \n",
    "    def next_item(): \n",
    "        clear_output()\n",
    "        analysis(new_img_paths, result_path)\n",
    "\n",
    "    start         = time.time()\n",
    "    all_paths     = result_paths(result_path)\n",
    "    \n",
    "    new_img_paths = [path for path in image_paths if path['img_path'] not in all_paths]\n",
    "    \n",
    "#     for path in image_paths:\n",
    "#         if path['img_path'] in all_paths:\n",
    "#             print(path['img_path'])\n",
    "            \n",
    "    \n",
    "    if len(new_img_paths) == 0:\n",
    "        print(\"CONGRATS...TASK FINITO !!\")\n",
    "        return 0\n",
    "    \n",
    "    rand_seed  = np.random.choice(range(0, 100))\n",
    "    np.random.seed(rand_seed)\n",
    "    rand_index = np.random.choice(range(0, len(new_img_paths)))\n",
    "    \n",
    "    rand_path  = new_img_paths[rand_index]\n",
    "    img_path   = rand_path['img_path']\n",
    "    video_path = rand_path['vid_path']\n",
    "    \n",
    "    print(img_path, video_path)\n",
    "    \n",
    "    #radio buttons\n",
    "    gender = widgets.RadioButtons(\n",
    "        options=['good', 'bad'],\n",
    "        value=None,\n",
    "        layout={'width': 'max-content'}, \n",
    "        description='Gender:',\n",
    "        disabled=False\n",
    "    )\n",
    "\n",
    "    color = widgets.RadioButtons(\n",
    "        options=['good', 'bad'],\n",
    "        value=None, \n",
    "        layout={'width': 'max-content'}, \n",
    "        description='Color :',\n",
    "        disabled=False\n",
    "    )\n",
    "\n",
    "    category = widgets.RadioButtons(\n",
    "        options=['good', 'bad'],\n",
    "        value=None, \n",
    "        layout={'width': 'max-content'},\n",
    "        description='Category:',\n",
    "        disabled=False\n",
    "    )\n",
    "\n",
    "    pattern = widgets.RadioButtons(\n",
    "        options=['good', 'bad'],\n",
    "        value=None,\n",
    "        layout={'width': 'max-content'},\n",
    "        description='Pattern:',\n",
    "        disabled=False\n",
    "    )   \n",
    "    \n",
    "    frame = widgets.RadioButtons(\n",
    "        options=['good', 'bad'],\n",
    "        value=None,\n",
    "        layout={'width': 'max-content'},\n",
    "        description='Frame:',\n",
    "        disabled=False\n",
    "    ) \n",
    "\n",
    "    #submit button\n",
    "    submit = widgets.Button(description = 'Submit')  \n",
    "    def click_submit(arg):\n",
    "        if gender.value and color.value and category.value and pattern.value is not None:\n",
    "            with open(result_path, 'a') as f:\n",
    "                f.write(f\"{img_path} {gender.value} {color.value} {category.value} {pattern.value} {frame.value}\\n\")\n",
    "            print(\"recorded\")\n",
    "            next_item()\n",
    "        else:\n",
    "            print('please fill up all section')    \n",
    "            \n",
    "    submit.on_click(click_submit)\n",
    "    \n",
    "    start = time.time()\n",
    "    #read image and vide\n",
    "    final_image = Image.from_file(img_path,   height = 500, width =500)\n",
    "    video       = Video.from_file(video_path, width = 500, height=500, autoplay=False)  \n",
    "    \n",
    "    #display \n",
    "    print(\"--> \"+ img_path)\n",
    "    content = widgets.HBox([video, final_image])\n",
    "    radio = widgets.HBox([gender,color, category,pattern,frame])\n",
    "    display(widgets.VBox([content,radio, submit, widgets.Output()]))\n",
    "    \n",
    "    print(time.time() - start)"
   ]
  },
  {
   "cell_type": "code",
   "execution_count": 3,
   "id": "neutral-procedure",
   "metadata": {},
   "outputs": [],
   "source": [
    "video_root       = '/notebooks/common-dataset/common/test_mx/video_segmented'\n",
    "all_videos       = glob(video_root+'/*/*')\n",
    "images_root_path = '/notebooks/common-dataset/common/test_mx/Suggested_ads'\n",
    "img_paths        =  glob(images_root_path+\"/*/multi_color_image_matching/*/*.png\")\n",
    "result_path      = '/notebooks/common-dataset/common/test_mx/result.txt'"
   ]
  },
  {
   "cell_type": "code",
   "execution_count": 4,
   "metadata": {
    "scrolled": true
   },
   "outputs": [
    {
     "name": "stdout",
     "output_type": "stream",
     "text": [
      "/notebooks/common-dataset/common/test_mx/Suggested_ads/Marvels_ThePunisher/multi_color_image_matching/Marvels_ThePunisher_009_1_M_H7S6V1_half_tshirt.jpg/781da07b-98f2-43a5-97d7-c2292789cc8c.png\n",
      "26 781da07b-98f2-43a5-97d7-c22927\n",
      "/notebooks/common-dataset/common/test_mx/video_segmented/multi_color_image_matching/781da07b-98f2-43a5-97d7-c22927.mp4\n"
     ]
    }
   ],
   "source": [
    "ind     = 48\n",
    "series  = img_paths[ind].split('/')[-3]\n",
    "episode = img_paths[ind].split('/')[-1]\n",
    "print(img_paths[ind])\n",
    "print(len(series), episode[:len(series)+4])\n",
    "video_path = f\"{video_root}/{series}/{episode[:len(series)+4]}.mp4\"\n",
    "print(video_path)"
   ]
  },
  {
   "cell_type": "code",
   "execution_count": 5,
   "metadata": {},
   "outputs": [
    {
     "name": "stdout",
     "output_type": "stream",
     "text": [
      "99\n"
     ]
    }
   ],
   "source": [
    "new_img_vid_path = []\n",
    "for img_path in img_paths:\n",
    "    req_vid = None\n",
    "    for vid_path in all_videos:\n",
    "        if (vid_path.split('/')[-1].split('.')[0]) in img_path:     \n",
    "            new_img_vid_path.append({'img_path':img_path, 'vid_path':vid_path})\n",
    "            break\n",
    "    \n",
    "        \n",
    "print(len(new_img_vid_path)) "
   ]
  },
  {
   "cell_type": "code",
   "execution_count": 6,
   "id": "preceding-immune",
   "metadata": {
    "scrolled": false
   },
   "outputs": [
    {
     "name": "stdout",
     "output_type": "stream",
     "text": [
      "/notebooks/common-dataset/common/test_mx/Suggested_ads/Scam_1992/multi_color_image_matching/Scam_1992_013_2_M_H11S1V7_full_shirt.jpg/5c39d46d-4565-44ab-b5d4-bbf6ebc35473.png /notebooks/common-dataset/common/test_mx/video_segmented/Scam_1992/Scam_1992_013.mp4\n",
      "--> /notebooks/common-dataset/common/test_mx/Suggested_ads/Scam_1992/multi_color_image_matching/Scam_1992_013_2_M_H11S1V7_full_shirt.jpg/5c39d46d-4565-44ab-b5d4-bbf6ebc35473.png\n"
     ]
    },
    {
     "data": {
      "application/vnd.jupyter.widget-view+json": {
       "model_id": "2c08fbaa778e4882a7c2b0a1681ee8dc",
       "version_major": 2,
       "version_minor": 0
      },
      "text/plain": [
       "VBox(children=(HBox(children=(Video(value=b'\\x00\\x00\\x00 ftypisom\\x00\\x00\\x02\\x00isomiso2avc1mp41\\x00\\x00\\x00\\…"
      ]
     },
     "metadata": {},
     "output_type": "display_data"
    },
    {
     "name": "stdout",
     "output_type": "stream",
     "text": [
      "0.26151490211486816\n"
     ]
    }
   ],
   "source": [
    "with open(result_path, 'a') as f:\n",
    "    pass\n",
    "\n",
    "analysis(new_img_vid_path, result_path)"
   ]
  },
  {
   "cell_type": "code",
   "execution_count": null,
   "metadata": {},
   "outputs": [],
   "source": []
  }
 ],
 "metadata": {
  "kernelspec": {
   "display_name": "Python 3",
   "language": "python",
   "name": "python3"
  },
  "language_info": {
   "codemirror_mode": {
    "name": "ipython",
    "version": 3
   },
   "file_extension": ".py",
   "mimetype": "text/x-python",
   "name": "python",
   "nbconvert_exporter": "python",
   "pygments_lexer": "ipython3",
   "version": "3.6.9"
  }
 },
 "nbformat": 4,
 "nbformat_minor": 5
}
