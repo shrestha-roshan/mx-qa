{
 "cells": [
  {
   "cell_type": "code",
   "execution_count": 134,
   "id": "excessive-pitch",
   "metadata": {},
   "outputs": [],
   "source": [
    "from IPython.display import display\n",
    "import ipywidgets as widgets\n",
    "from IPython.display import clear_output\n",
    "import numpy as np\n",
    "from ipywidgets import Video, Image\n",
    "from glob import glob\n",
    "import os\n",
    "import time\n",
    "import cv2\n",
    "import time\n",
    "import matplotlib.pyplot as plt\n",
    "import json\n",
    "import subprocess, shlex\n",
    "import PIL as pil\n",
    "import random\n",
    "import functools"
   ]
  },
  {
   "cell_type": "code",
   "execution_count": 255,
   "id": "outstanding-reference",
   "metadata": {
    "scrolled": false
   },
   "outputs": [],
   "source": [
    "def find_frame_at_given_time(frame_num, video_path):\n",
    "    \n",
    "    \n",
    "    vid_cap           = cv2.VideoCapture(video_path)\n",
    "    fps               = vid_cap.get(cv2.CAP_PROP_FPS)\n",
    "    total_frame       = int(vid_cap.get(cv2.CAP_PROP_FRAME_COUNT))\n",
    "    frame_num         = max(0, frame_num)\n",
    "    \n",
    "    vid_cap.set(1, frame_num)\n",
    "    _, frame = vid_cap.read()\n",
    "    \n",
    "    \n",
    "    return frame\n",
    "\n",
    "\n",
    "def read_json(json_path):\n",
    "    with open(json_path, 'rb') as f:\n",
    "        return json.load(f)\n",
    "    \n",
    "def add_ratio_button(display_color, display_pattern):\n",
    "    gender = widgets.RadioButtons(\n",
    "        options=['good', 'bad'],\n",
    "        value=None,\n",
    "        layout={'width': 'max-content'}, \n",
    "        description='Gender:',\n",
    "        disabled=False\n",
    "    )\n",
    "\n",
    "        \n",
    "    category = widgets.RadioButtons(\n",
    "        options=['good', 'bad'],\n",
    "        value=None, \n",
    "        layout={'width': 'max-content'},\n",
    "        description='Category:',\n",
    "        disabled=False\n",
    "    )\n",
    "\n",
    "    if display_color:\n",
    "        color = widgets.RadioButtons(\n",
    "            options=['good', 'bad'],\n",
    "            value=None, \n",
    "            layout={'width': 'max-content'}, \n",
    "            description='Color :',\n",
    "            disabled=False\n",
    "        )\n",
    "    else:\n",
    "        color = widgets.RadioButtons(\n",
    "            options=['good', 'bad', 'NO'],\n",
    "            value='NO', \n",
    "            layout={'width': 'max-content'}, \n",
    "            description='Color :',\n",
    "            disabled=False\n",
    "        )\n",
    "        \n",
    "\n",
    "    if display_pattern:\n",
    "        pattern = widgets.RadioButtons(\n",
    "            options=['good', 'bad'],\n",
    "            value=None,\n",
    "            layout={'width': 'max-content'},\n",
    "            description='Pattern:',\n",
    "            disabled=False\n",
    "        )   \n",
    "        \n",
    "    else:\n",
    "        pattern = widgets.RadioButtons(\n",
    "            options=['good', 'bad', 'NO'],\n",
    "            value='NO',\n",
    "            layout={'width': 'max-content'},\n",
    "            description='Pattern:',\n",
    "            disabled=False\n",
    "        )   \n",
    "\n",
    "    frame = widgets.RadioButtons(\n",
    "        options=['good', 'bad'],\n",
    "        value=None,\n",
    "        layout={'width': 'max-content'},\n",
    "        description='Frame:',\n",
    "        disabled=False\n",
    "    ) \n",
    "        \n",
    "    return frame, gender, category, color, pattern\n",
    "\n",
    "def analysis(json_path, result_path, qa_status_path): #image array    \n",
    "    hold = False\n",
    "    \n",
    "    def get_qa_status(qa_status_path): #get paths from qa_status.txt\n",
    "        with open(qa_status_path, 'r') as f:\n",
    "            size = os.path.getsize(qa_status_path)\n",
    "            if size != 0:\n",
    "                return  [i.replace('\\n', '') for i in f.readlines()]\n",
    "\n",
    "            else:\n",
    "                return []\n",
    "\n",
    "    def next_item(): \n",
    "        clear_output()\n",
    "        analysis(new_json, result_path, qa_status_path)\n",
    "        \n",
    "        \n",
    "    def click_submit(arg, argument):\n",
    "\n",
    "        frame, gender, category, color, pattern, object_name = arg\n",
    "        \n",
    "        if gender.value and color.value and category.value and pattern.value and frame.value is not None:\n",
    "            with open(result_path, 'a') as f:\n",
    "                f.write(f\"{object_name},{frame.value},{gender.value},{category.value},{color.value},{pattern.value}\\n\")\n",
    "            print(\"recorded\")\n",
    "            argument.disabled = True\n",
    "            \n",
    "        else:\n",
    "            print('please fill up all section')  \n",
    "            \n",
    "            \n",
    "    def Done(passed_arg, arg):\n",
    "        with open(qa_status_path, 'w') as f:\n",
    "            f.write('\\n'.join(passed_arg))\n",
    "        next_item()\n",
    "        \n",
    "            \n",
    "    def display_adds(item, object_name, series_name, video_path, display_color, display_pattern):\n",
    "        global new_json, result_path\n",
    "        #radio buttons\n",
    "        frame, gender, category, color, pattern = add_ratio_button(display_color, display_pattern)\n",
    "\n",
    "       \n",
    "\n",
    "        frame_num  = item['features']['maxConfFrameNumber']\n",
    "        \n",
    "        if display_color and display_pattern:\n",
    "            img_path   = f'{images_root_path}/{series_name}/multi_color_image_matching/{object_name}/*.png'\n",
    "            img_path   = glob(img_path)[0]\n",
    "        \n",
    "        elif display_color and not(display_pattern):\n",
    "            img_path   = f'{images_root_path}/{series_name}/multi_color/{object_name}/*.png'\n",
    "            img_path   = random.shuffle(glob(img_path))[0]\n",
    "            \n",
    "        elif not(display_color):\n",
    "            img_path   = f'{detected_path}/{object_name}'\n",
    "                        \n",
    "        final_image  = cv2.resize(cv2.imread(img_path), (300, 300))\n",
    "        frame_       = cv2.resize(find_frame_at_given_time(frame_num, video_path), (300, 300))\n",
    "        \n",
    "        concated     = cv2.hconcat([frame_, final_image])\n",
    "        cv2.imwrite('temp_file.png', concated)\n",
    "        video       = Image.from_file('temp_file.png',  width = 600, height=600)\n",
    "        \n",
    "        #submit button\n",
    "        arg    = frame, gender, category, color, pattern, object_name\n",
    "        submit = widgets.Button(description = 'Submit', disabled=False)\n",
    "        submit.on_click(functools.partial(click_submit, arg))\n",
    "        \n",
    "        #display \n",
    "        print(\"--> \"+ img_path)\n",
    "        content = widgets.HBox([video])\n",
    "        if display_color and display_pattern:\n",
    "            radio = widgets.HBox([frame, gender, category, color, pattern])\n",
    "            \n",
    "        elif display_color and not(display_pattern):\n",
    "            radio = widgets.HBox([frame, gender, category, color])\n",
    "            \n",
    "        elif not(display_color):\n",
    "            radio = widgets.HBox([frame, gender, category])\n",
    "            \n",
    "        display(widgets.VBox([content, radio, submit, widgets.Output()]))\n",
    "        \n",
    "        \n",
    "        \n",
    "\n",
    "    start          = time.time()\n",
    "    qa_completed   = get_qa_status(qa_status_path)  \n",
    "    new_json       = list(set(json_path) - set(qa_completed))\n",
    "    \n",
    "    #If there is no json_left to evaluate task is finished\n",
    "    if len(new_json) == 0:\n",
    "        print(\"CONGRATS...TASK FINITO !!\")\n",
    "        return 0\n",
    "    \n",
    "    \n",
    "    rand_seed  = np.random.choice(range(0, 10))\n",
    "    np.random.seed(rand_seed)\n",
    "    rand_index = np.random.choice(range(0, len(new_json)))\n",
    "    \n",
    "    selected_json_path  = new_json[rand_index]\n",
    "    selected_json       = read_json(selected_json_path)\n",
    "    \n",
    "    \n",
    "    for items in selected_json['analyticsInfo']:\n",
    "        hold        = True\n",
    "        object_name = items['objectImage']\n",
    "        series_name = '_'.join(object_name.split('_')[0:2])\n",
    "        vid_path    = f\"{video_root}/{series_name}/{'_'.join(object_name.split('_')[0:3])}.mp4\"\n",
    "        if items['recommended_ads'] != {}:\n",
    "            display_adds(items, object_name, series_name, vid_path, display_color=True, display_pattern=True)\n",
    "            \n",
    "        else:\n",
    "            obj_path    = f'{images_root_path}/series_name/multi_color/{object_name}'\n",
    "            if os.path.isfile(obj_path):\n",
    "                display_adds(items, object_name, series_name, vid_path, display_color=True, display_pattern=False)\n",
    "                \n",
    "            else:\n",
    "                display_adds(items, object_name, series_name, vid_path, display_color=False, display_pattern=False)\n",
    "           \n",
    "    qa_completed  = qa_completed + [selected_json_path]\n",
    "    done = widgets.Button(description = 'Done')  \n",
    "    done.on_click(functools.partial(Done, qa_completed))\n",
    "    output = widgets.Output()\n",
    "    display(widgets.VBox([done]), output)"
   ]
  },
  {
   "cell_type": "code",
   "execution_count": 256,
   "id": "neutral-procedure",
   "metadata": {},
   "outputs": [],
   "source": [
    "version          = 'frame_selection'\n",
    "\n",
    "video_root       = '/notebooks/common-dataset/common/test_mx/video_segmented'\n",
    "images_root_path = f'/notebooks/common-dataset/common/test_mx/{version}/Suggested_ads'\n",
    "result_path      = f'/notebooks/common-dataset/common/test_mx/{version}/result.txt'\n",
    "json_file_root   = '/notebooks/common-dataset/common/test_mx/json_frame_selection'\n",
    "detected_path    = '/notebooks/static-clickable-poster/analytics-app/app-code/temp-media-folder/analytics'\n",
    "QA_complted_list = f'/notebooks/common-dataset/common/test_mx/{version}/qa_complted.txt'\n",
    "\n",
    "json_file_paths  = glob(f'{json_file_root}/*.json')\n",
    "\n"
   ]
  },
  {
   "cell_type": "code",
   "execution_count": 257,
   "metadata": {},
   "outputs": [
    {
     "data": {
      "text/plain": [
       "93"
      ]
     },
     "execution_count": 257,
     "metadata": {},
     "output_type": "execute_result"
    }
   ],
   "source": [
    "len(json_file_paths)"
   ]
  },
  {
   "cell_type": "code",
   "execution_count": 258,
   "id": "preceding-immune",
   "metadata": {
    "scrolled": false
   },
   "outputs": [
    {
     "name": "stdout",
     "output_type": "stream",
     "text": [
      "['/notebooks/common-dataset/common/test_mx/json_frame_selection/BasementCompany_S1Ep1_001.json', '/notebooks/common-dataset/common/test_mx/json_frame_selection/Aashram_S1Ep1_024.json', '/notebooks/common-dataset/common/test_mx/json_frame_selection/EkThiBegum_E01_013.json', '/notebooks/common-dataset/common/test_mx/json_frame_selection/Ray_S1Ep1_010.json', '/notebooks/common-dataset/common/test_mx/json_frame_selection/Ray_S1Ep1_016.json', '/notebooks/common-dataset/common/test_mx/json_frame_selection/TheInsidersS1Ep2_high_008.json', '/notebooks/common-dataset/common/test_mx/json_frame_selection/Aashram_S1Ep1_010.json', '/notebooks/common-dataset/common/test_mx/json_frame_selection/Bhaukaal_S2Ep2_000.json', '/notebooks/common-dataset/common/test_mx/json_frame_selection/Bhaukaal_S2Ep2_007.json', '/notebooks/common-dataset/common/test_mx/json_frame_selection/Ray_S1Ep1_020.json', '/notebooks/common-dataset/common/test_mx/json_frame_selection/EkThiBegum_E02_012.json', '/notebooks/common-dataset/common/test_mx/json_frame_selection/EkThiBegum_E01_001.json', '/notebooks/common-dataset/common/test_mx/json_frame_selection/TheInsidersS1Ep2_low_005.json', '/notebooks/common-dataset/common/test_mx/json_frame_selection/Ray_S1Ep1_008.json', '/notebooks/common-dataset/common/test_mx/json_frame_selection/BasementCompany_S1Ep1_010.json', '/notebooks/common-dataset/common/test_mx/json_frame_selection/BasementCompany_S1Ep1_008.json', '/notebooks/common-dataset/common/test_mx/json_frame_selection/Aashram_S1Ep1_004.json', '/notebooks/common-dataset/common/test_mx/json_frame_selection/TheInsidersS1Ep2_high_010.json', '/notebooks/common-dataset/common/test_mx/json_frame_selection/EkThiBegum_E02_005.json', '/notebooks/common-dataset/common/test_mx/json_frame_selection/Ray_S1Ep1_019.json', '/notebooks/common-dataset/common/test_mx/json_frame_selection/Aashram_S1Ep1_017.json', '/notebooks/common-dataset/common/test_mx/json_frame_selection/EkThiBegum_E01_009.json', '/notebooks/common-dataset/common/test_mx/json_frame_selection/Ray_S1Ep1_018.json', '/notebooks/common-dataset/common/test_mx/json_frame_selection/EkThiBegum_E01_012.json', '/notebooks/common-dataset/common/test_mx/json_frame_selection/Aashram_S1Ep1_006.json', '/notebooks/common-dataset/common/test_mx/json_frame_selection/TheInsidersS1Ep2_low_001.json', '/notebooks/common-dataset/common/test_mx/json_frame_selection/Bhaukaal_S2Ep2_002.json', '/notebooks/common-dataset/common/test_mx/json_frame_selection/Flames_S1Ep2_004.json', '/notebooks/common-dataset/common/test_mx/json_frame_selection/EkThiBegum_E02_003.json', '/notebooks/common-dataset/common/test_mx/json_frame_selection/BasementCompany_S1Ep1_000.json']\n",
      "63\n",
      "--> /notebooks/static-clickable-poster/analytics-app/app-code/temp-media-folder/analytics/EkThiBegum_E01_006_1_M_H2S8V8_full_shirt.jpg\n"
     ]
    },
    {
     "data": {
      "application/vnd.jupyter.widget-view+json": {
       "model_id": "04fdef6180614575aaaecec0e7fc0e23",
       "version_major": 2,
       "version_minor": 0
      },
      "text/plain": [
       "VBox(children=(HBox(children=(Image(value=b'\\x89PNG\\r\\n\\x1a\\n\\x00\\x00\\x00\\rIHDR\\x00\\x00\\x02X\\x00\\x00\\x01,\\x08\\…"
      ]
     },
     "metadata": {},
     "output_type": "display_data"
    },
    {
     "name": "stdout",
     "output_type": "stream",
     "text": [
      "--> /notebooks/static-clickable-poster/analytics-app/app-code/temp-media-folder/analytics/EkThiBegum_E01_006_2_F_H2S12V2_half_tshirt.jpg\n"
     ]
    },
    {
     "data": {
      "application/vnd.jupyter.widget-view+json": {
       "model_id": "a5fa3aaa78cc474bbea5616f2c723fa3",
       "version_major": 2,
       "version_minor": 0
      },
      "text/plain": [
       "VBox(children=(HBox(children=(Image(value=b'\\x89PNG\\r\\n\\x1a\\n\\x00\\x00\\x00\\rIHDR\\x00\\x00\\x02X\\x00\\x00\\x01,\\x08\\…"
      ]
     },
     "metadata": {},
     "output_type": "display_data"
    },
    {
     "data": {
      "application/vnd.jupyter.widget-view+json": {
       "model_id": "f03ac408d9b846768d107f7e51a2cea3",
       "version_major": 2,
       "version_minor": 0
      },
      "text/plain": [
       "VBox(children=(Button(description='Done', style=ButtonStyle()),))"
      ]
     },
     "metadata": {},
     "output_type": "display_data"
    },
    {
     "data": {
      "application/vnd.jupyter.widget-view+json": {
       "model_id": "567b4390a6bf453a85fdf5b805de9de7",
       "version_major": 2,
       "version_minor": 0
      },
      "text/plain": [
       "Output()"
      ]
     },
     "metadata": {},
     "output_type": "display_data"
    }
   ],
   "source": [
    "with open(QA_complted_list, 'a') as f:\n",
    "    pass\n",
    "\n",
    "analysis(json_file_paths, result_path, QA_complted_list)"
   ]
  },
  {
   "cell_type": "code",
   "execution_count": 147,
   "metadata": {},
   "outputs": [
    {
     "data": {
      "text/plain": [
       "['__class__',\n",
       " '__del__',\n",
       " '__delattr__',\n",
       " '__dict__',\n",
       " '__dir__',\n",
       " '__doc__',\n",
       " '__eq__',\n",
       " '__format__',\n",
       " '__ge__',\n",
       " '__getattribute__',\n",
       " '__getstate__',\n",
       " '__gt__',\n",
       " '__hash__',\n",
       " '__init__',\n",
       " '__init_subclass__',\n",
       " '__le__',\n",
       " '__lt__',\n",
       " '__module__',\n",
       " '__ne__',\n",
       " '__new__',\n",
       " '__reduce__',\n",
       " '__reduce_ex__',\n",
       " '__repr__',\n",
       " '__setattr__',\n",
       " '__setstate__',\n",
       " '__sizeof__',\n",
       " '__str__',\n",
       " '__subclasshook__',\n",
       " '__weakref__',\n",
       " '_add_notifiers',\n",
       " '_call_widget_constructed',\n",
       " '_comm_changed',\n",
       " '_compare',\n",
       " '_default_keys',\n",
       " '_display_callbacks',\n",
       " '_dom_classes',\n",
       " '_from_file',\n",
       " '_gen_repr_from_keys',\n",
       " '_get_embed_state',\n",
       " '_get_repr',\n",
       " '_guess_format',\n",
       " '_handle_custom_msg',\n",
       " '_handle_displayed',\n",
       " '_handle_msg',\n",
       " '_holding_sync',\n",
       " '_ipython_display_',\n",
       " '_is_numpy',\n",
       " '_load_file_value',\n",
       " '_lock_property',\n",
       " '_log_default',\n",
       " '_model_module',\n",
       " '_model_module_version',\n",
       " '_model_name',\n",
       " '_msg_callbacks',\n",
       " '_notify_trait',\n",
       " '_property_lock',\n",
       " '_register_validator',\n",
       " '_remove_notifiers',\n",
       " '_repr_keys',\n",
       " '_send',\n",
       " '_should_send_property',\n",
       " '_states_to_send',\n",
       " '_trait_default_generators',\n",
       " '_trait_from_json',\n",
       " '_trait_to_json',\n",
       " '_view_count',\n",
       " '_view_module',\n",
       " '_view_module_version',\n",
       " '_view_name',\n",
       " '_widget_construction_callback',\n",
       " 'add_class',\n",
       " 'add_traits',\n",
       " 'class_own_trait_events',\n",
       " 'class_own_traits',\n",
       " 'class_trait_names',\n",
       " 'class_traits',\n",
       " 'close',\n",
       " 'close_all',\n",
       " 'comm',\n",
       " 'cross_validation_lock',\n",
       " 'format',\n",
       " 'from_file',\n",
       " 'from_url',\n",
       " 'get_interact_value',\n",
       " 'get_manager_state',\n",
       " 'get_state',\n",
       " 'get_view_spec',\n",
       " 'handle_comm_opened',\n",
       " 'has_trait',\n",
       " 'height',\n",
       " 'hold_sync',\n",
       " 'hold_trait_notifications',\n",
       " 'keys',\n",
       " 'layout',\n",
       " 'log',\n",
       " 'model_id',\n",
       " 'notify_change',\n",
       " 'observe',\n",
       " 'on_displayed',\n",
       " 'on_msg',\n",
       " 'on_trait_change',\n",
       " 'on_widget_constructed',\n",
       " 'open',\n",
       " 'remove_class',\n",
       " 'send',\n",
       " 'send_state',\n",
       " 'set_state',\n",
       " 'set_trait',\n",
       " 'set_value_from_file',\n",
       " 'setup_instance',\n",
       " 'trait_events',\n",
       " 'trait_metadata',\n",
       " 'trait_names',\n",
       " 'traits',\n",
       " 'unobserve',\n",
       " 'unobserve_all',\n",
       " 'value',\n",
       " 'widget_types',\n",
       " 'widgets',\n",
       " 'width']"
      ]
     },
     "execution_count": 147,
     "metadata": {},
     "output_type": "execute_result"
    }
   ],
   "source": [
    "dir(Image)"
   ]
  },
  {
   "cell_type": "code",
   "execution_count": 215,
   "metadata": {},
   "outputs": [
    {
     "data": {
      "application/vnd.jupyter.widget-view+json": {
       "model_id": "b08bc9376fe845ddb19a8f8d51d9da49",
       "version_major": 2,
       "version_minor": 0
      },
      "text/plain": [
       "VBox(children=(Button(description='Done', style=ButtonStyle()),))"
      ]
     },
     "metadata": {},
     "output_type": "display_data"
    },
    {
     "data": {
      "application/vnd.jupyter.widget-view+json": {
       "model_id": "70310eb723e14ae8b8c189553ff4a1e4",
       "version_major": 2,
       "version_minor": 0
      },
      "text/plain": [
       "Output()"
      ]
     },
     "metadata": {},
     "output_type": "display_data"
    }
   ],
   "source": [
    "def done_(arg):\n",
    "    \n",
    "    arg.disabled=True\n",
    "    \n",
    "done = widgets.Button(description = 'Done')  \n",
    "done.on_click(done_)\n",
    "output = widgets.Output()\n",
    "display(widgets.VBox([done]), output)"
   ]
  },
  {
   "cell_type": "code",
   "execution_count": 209,
   "metadata": {},
   "outputs": [
    {
     "data": {
      "text/plain": [
       "['__abs__',\n",
       " '__add__',\n",
       " '__and__',\n",
       " '__bool__',\n",
       " '__ceil__',\n",
       " '__class__',\n",
       " '__delattr__',\n",
       " '__dir__',\n",
       " '__divmod__',\n",
       " '__doc__',\n",
       " '__eq__',\n",
       " '__float__',\n",
       " '__floor__',\n",
       " '__floordiv__',\n",
       " '__format__',\n",
       " '__ge__',\n",
       " '__getattribute__',\n",
       " '__getnewargs__',\n",
       " '__gt__',\n",
       " '__hash__',\n",
       " '__index__',\n",
       " '__init__',\n",
       " '__init_subclass__',\n",
       " '__int__',\n",
       " '__invert__',\n",
       " '__le__',\n",
       " '__lshift__',\n",
       " '__lt__',\n",
       " '__mod__',\n",
       " '__mul__',\n",
       " '__ne__',\n",
       " '__neg__',\n",
       " '__new__',\n",
       " '__or__',\n",
       " '__pos__',\n",
       " '__pow__',\n",
       " '__radd__',\n",
       " '__rand__',\n",
       " '__rdivmod__',\n",
       " '__reduce__',\n",
       " '__reduce_ex__',\n",
       " '__repr__',\n",
       " '__rfloordiv__',\n",
       " '__rlshift__',\n",
       " '__rmod__',\n",
       " '__rmul__',\n",
       " '__ror__',\n",
       " '__round__',\n",
       " '__rpow__',\n",
       " '__rrshift__',\n",
       " '__rshift__',\n",
       " '__rsub__',\n",
       " '__rtruediv__',\n",
       " '__rxor__',\n",
       " '__setattr__',\n",
       " '__sizeof__',\n",
       " '__str__',\n",
       " '__sub__',\n",
       " '__subclasshook__',\n",
       " '__truediv__',\n",
       " '__trunc__',\n",
       " '__xor__',\n",
       " 'bit_length',\n",
       " 'conjugate',\n",
       " 'denominator',\n",
       " 'from_bytes',\n",
       " 'imag',\n",
       " 'numerator',\n",
       " 'real',\n",
       " 'to_bytes']"
      ]
     },
     "execution_count": 209,
     "metadata": {},
     "output_type": "execute_result"
    }
   ],
   "source": [
    "dir(submit.disabled)"
   ]
  },
  {
   "cell_type": "code",
   "execution_count": null,
   "metadata": {},
   "outputs": [],
   "source": []
  }
 ],
 "metadata": {
  "kernelspec": {
   "display_name": "Python 3",
   "language": "python",
   "name": "python3"
  },
  "language_info": {
   "codemirror_mode": {
    "name": "ipython",
    "version": 3
   },
   "file_extension": ".py",
   "mimetype": "text/x-python",
   "name": "python",
   "nbconvert_exporter": "python",
   "pygments_lexer": "ipython3",
   "version": "3.6.9"
  }
 },
 "nbformat": 4,
 "nbformat_minor": 5
}
