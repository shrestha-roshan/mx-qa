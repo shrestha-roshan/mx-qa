{
 "cells": [
  {
   "cell_type": "code",
   "execution_count": 1,
   "id": "excessive-pitch",
   "metadata": {},
   "outputs": [],
   "source": [
    "from IPython.display import display\n",
    "import ipywidgets as widgets\n",
    "from IPython.display import clear_output\n",
    "import numpy as np\n",
    "from ipywidgets import Video, Image\n",
    "from glob import glob\n",
    "import os\n",
    "\n",
    "import time\n",
    "import cv2\n",
    "import time\n",
    "import matplotlib.pyplot as plt\n",
    "import subprocess, shlex\n",
    "import PIL as pil\n",
    "import random\n",
    "import functools\n",
    "import pandas as pd"
   ]
  },
  {
   "cell_type": "code",
   "execution_count": 5,
   "id": "outstanding-reference",
   "metadata": {
    "scrolled": false
   },
   "outputs": [],
   "source": [
    "def add_radio_button():\n",
    "    toggle = widgets.RadioButtons(\n",
    "        options = ['YES', 'NO'],\n",
    "        value = None,\n",
    "        layout = {'width': 'max-content'}, \n",
    "        description = 'Similar? : \\n',\n",
    "        disabled = False\n",
    "    )\n",
    "    return toggle\n",
    "\n",
    "\n",
    "def next_item(text_path, index): \n",
    "    clear_output()\n",
    "    index+=1\n",
    "    display_image(text_path, index)\n",
    "\n",
    "def click_previous(arg, argument):\n",
    "    clear_output()\n",
    "    toggle, text_path, index = arg\n",
    "    with open(r\"result.txt\", 'r+') as f:\n",
    "        # read an store all lines into list\n",
    "        lines = f.readlines()\n",
    "        f.seek(0)\n",
    "        f.truncate()\n",
    "        f.writelines(lines[:-1])\n",
    "    index-=1\n",
    "    display_image(text_path, index)\n",
    "\n",
    "\n",
    "def click_submit(arg, argument):\n",
    "    \n",
    "    toggle, text_path, index = arg\n",
    "\n",
    "    if toggle.value is not None:\n",
    "        img_1,img_2,img_3 = get_img_paths(text_path, index)  \n",
    "        \n",
    "        try:\n",
    "            if toggle.value == 'NO':\n",
    "                with open('result.txt', 'a') as file:\n",
    "                    file.write(f\"{img_1}|{img_2}|{img_3}|1\\n\")\n",
    "                print(\"recorded\")\n",
    "                next_item(text_path, index)\n",
    "\n",
    "            elif toggle.value == 'YES':\n",
    "                with open('result.txt', 'a') as file:\n",
    "                    file.write(f\"{img_1}|{img_2}|{img_3}|0\\n\")\n",
    "                print(\"recorded\")\n",
    "                next_item(text_path, index)\n",
    "        except Exception as e:\n",
    "            print(\"CONGRATS...TASK FINITO !!\")\n",
    "            \n",
    "    else:\n",
    "        print('please fill up all section')  \n",
    "\n",
    "def get_img_paths(text_path, index):\n",
    "    with open(text_path, 'r') as f:\n",
    "        paths = f.readlines()[index]\n",
    "        img_1 = paths.split('|')[0]\n",
    "        img_2 = paths.split('|')[1]\n",
    "        img_3 = paths.split('|')[2]            \n",
    "    return img_1, img_2, img_3\n",
    "\n",
    "def display_image(text_path, index):\n",
    "    with open('log.txt', 'w') as f:\n",
    "        f.write(str(index))\n",
    "    \n",
    "    #radio button\n",
    "    toggle = add_radio_button()\n",
    "\n",
    "    #images\n",
    "    img_1,img_2,img_3 = get_img_paths(text_path, index)  \n",
    "#     print(img_1, 'and', img_3)\n",
    "    image_1           = cv2.resize(cv2.imread(img_1), (300, 300))\n",
    "    image_3           = cv2.resize(cv2.imread(img_3), (300, 300))\n",
    "    concated          = cv2.hconcat([image_1, image_3])\n",
    "    cv2.imwrite('temp_file.png', concated)\n",
    "    images            = Image.from_file('temp_file.png',  width = 600, height=600)\n",
    "\n",
    "    #submit button\n",
    "    arg    = toggle, text_path, index\n",
    "    submit = widgets.Button(description = 'Submit', disabled=False)\n",
    "    submit.on_click(functools.partial(click_submit, arg))\n",
    "    \n",
    "    #submit button\n",
    "    previous = widgets.Button(description = 'Previous', disabled=False)\n",
    "    previous.on_click(functools.partial(click_previous, arg))\n",
    "    \n",
    "    #display all\n",
    "    content = widgets.HBox([images])\n",
    "    radio = widgets.HBox([toggle])\n",
    "    buttons = widgets.HBox([submit, previous])\n",
    "    display(widgets.VBox([content, radio, buttons , widgets.Output()]))\n"
   ]
  },
  {
   "cell_type": "code",
   "execution_count": 9,
   "metadata": {
    "scrolled": false
   },
   "outputs": [
    {
     "name": "stdout",
     "output_type": "stream",
     "text": [
      "img1.png and img3.png\n"
     ]
    },
    {
     "data": {
      "application/vnd.jupyter.widget-view+json": {
       "model_id": "ed0d9a4c5c294cfe83e8baa60106afc6",
       "version_major": 2,
       "version_minor": 0
      },
      "text/plain": [
       "VBox(children=(HBox(children=(Image(value=b'\\x89PNG\\r\\n\\x1a\\n\\x00\\x00\\x00\\rIHDR\\x00\\x00\\x02X\\x00\\x00\\x01,\\x08\\…"
      ]
     },
     "metadata": {},
     "output_type": "display_data"
    }
   ],
   "source": [
    "text_path = 'test.txt'\n",
    "index = 0\n",
    "display_image(text_path, index)"
   ]
  },
  {
   "cell_type": "code",
   "execution_count": null,
   "metadata": {},
   "outputs": [],
   "source": []
  },
  {
   "cell_type": "code",
   "execution_count": null,
   "metadata": {},
   "outputs": [],
   "source": []
  },
  {
   "cell_type": "code",
   "execution_count": null,
   "metadata": {},
   "outputs": [],
   "source": []
  }
 ],
 "metadata": {
  "kernelspec": {
   "display_name": "Python 3",
   "language": "python",
   "name": "python3"
  },
  "language_info": {
   "codemirror_mode": {
    "name": "ipython",
    "version": 3
   },
   "file_extension": ".py",
   "mimetype": "text/x-python",
   "name": "python",
   "nbconvert_exporter": "python",
   "pygments_lexer": "ipython3",
   "version": "3.6.9"
  }
 },
 "nbformat": 4,
 "nbformat_minor": 5
}
